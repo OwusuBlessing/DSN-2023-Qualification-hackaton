{
 "cells": [
  {
   "cell_type": "markdown",
   "id": "c30974b1-9ce9-4a96-b273-71dcd09b9fa8",
   "metadata": {},
   "source": [
    "#### Table of contents\n",
    "- Importing libraries\n",
    "- Loading datasets\n",
    "- Feature Engineering\n",
    "- Cross validation\n",
    "- Model training\n",
    "- Model evaluation\n",
    "- Summary"
   ]
  },
  {
   "cell_type": "markdown",
   "id": "d78c72ce-6ebf-450f-b0b9-8ec5e9d63d29",
   "metadata": {},
   "source": [
    "#### Importing libraries\n"
   ]
  },
  {
   "cell_type": "code",
   "execution_count": 2,
   "id": "f2a00f9b-d7d0-4db2-a4c5-ffeb84001224",
   "metadata": {},
   "outputs": [],
   "source": [
    "import pandas as pd\n",
    "import matplotlib.pyplot as plt\n",
    "import seaborn as sns\n",
    "import numpy as np\n",
    "from sklearn import model_selection\n",
    "from scipy.stats import norm\n",
    "from sklearn.model_selection import train_test_split\n",
    "from sklearn.preprocessing import StandardScaler,RobustScaler,MinMaxScaler\n",
    "from sklearn.metrics import mean_absolute_error,mean_squared_error,mean_absolute_error,r2_score\n",
    "from scipy import stats\n",
    "from sklearn.model_selection import StratifiedKFold\n",
    "import warnings\n",
    "from sklearn import preprocessing\n",
    "from sklearn.model_selection import StratifiedShuffleSplit\n",
    "from sklearn.linear_model import LinearRegression\n",
    "from sklearn.ensemble import RandomForestRegressor,  GradientBoostingRegressor\n",
    "from catboost import CatBoostRegressor\n",
    "import xgboost as xgb\n",
    "import lightgbm as lgb\n",
    "warnings.filterwarnings('ignore')\n",
    "from sklearn.decomposition import PCA\n",
    "from scipy.stats import boxcox\n",
    "import os\n",
    "%matplotlib inline\n",
    "np.random.seed(365)"
   ]
  },
  {
   "cell_type": "markdown",
   "id": "8f96d15d-3823-4f05-9ebe-b6e93a8e736a",
   "metadata": {},
   "source": [
    "#### Loading datasets"
   ]
  },
  {
   "cell_type": "code",
   "execution_count": 5,
   "id": "8ca09958-11ee-48bb-8008-590a20891120",
   "metadata": {},
   "outputs": [],
   "source": [
    "#load datasets\n",
    "data_path_train = r\"C:\\Users\\User\\Desktop\\Blessing_AI\\Free_AI_Classes_2023\\Data\\Housing_dataset_train.csv\"\n",
    "df_train = pd.read_csv(data_path_train)\n",
    "\n",
    "data_path_test = r\"C:\\Users\\User\\Desktop\\Blessing_AI\\Free_AI_Classes_2023\\Data\\Housing_dataset_test.csv\"\n",
    "df_test = pd.read_csv(data_path_test)"
   ]
  },
  {
   "cell_type": "markdown",
   "id": "0d715ccc-e49f-407f-a53d-b523dbce666d",
   "metadata": {},
   "source": [
    "#### Feature Engineering"
   ]
  },
  {
   "cell_type": "markdown",
   "id": "f43cce26-109e-467d-bcd6-6208f2d4e2bd",
   "metadata": {},
   "source": [
    "##### Filling missing values"
   ]
  },
  {
   "cell_type": "code",
   "execution_count": 6,
   "id": "281ac35c-2482-4132-b470-ff9922bfd9c3",
   "metadata": {},
   "outputs": [
    {
     "data": {
      "text/plain": [
       "(8856, 7)"
      ]
     },
     "execution_count": 6,
     "metadata": {},
     "output_type": "execute_result"
    }
   ],
   "source": [
    "#Dropping missing values in selected features\n",
    "df_train.dropna(subset=[\"loc\",\"title\",\"bedroom\"],inplace=True)\n",
    "df_train.shape"
   ]
  },
  {
   "cell_type": "code",
   "execution_count": 7,
   "id": "3aedbd69-dce0-416e-963e-611f9326f3b9",
   "metadata": {},
   "outputs": [
    {
     "name": "stdout",
     "output_type": "stream",
     "text": [
      "{'Semi-detached duplex': 2.0, 'Detached duplex': 1.0, 'Penthouse': 2.0, 'Bungalow': 2.0, 'Apartment': 1.0, 'Terrace duplex': 1.0, 'Townhouse': 1.0, 'Mansion': 1.0, 'Flat': 2.0, 'Cottage': 1.0}\n",
      "{'Semi-detached duplex': 3.0, 'Detached duplex': 3.0, 'Penthouse': 4.0, 'Bungalow': 4.0, 'Apartment': 4.0, 'Terrace duplex': 4.0, 'Townhouse': 1.0, 'Mansion': 1.0, 'Flat': 2.0, 'Cottage': 1.0}\n",
      "Total missing data in train data is 0\n",
      "Total missing data in test data  is 0\n"
     ]
    }
   ],
   "source": [
    "\n",
    "def group_feature_by_feature_based_on_mode(by_feature,feature,df):\n",
    "    modes_values = []\n",
    "    titles = list(df[by_feature].unique())\n",
    "    for title in titles:\n",
    "        new_df = df[df[by_feature] == title]\n",
    "        mode_value =  new_df[feature].mode()[0]\n",
    "        modes_values.append(mode_value)\n",
    "    mode_dict = dict(zip(titles, modes_values))\n",
    "    print(mode_dict)\n",
    "\n",
    "    return mode_dict\n",
    "#Fill missing values in bathroon by mode value of house title\n",
    "mode_values = group_feature_by_feature_based_on_mode(by_feature = \"title\",feature=\"bathroom\",df=df_train)\n",
    "#fill missing values by mode house title\n",
    "def fill_missing_by_mode(cols,mode_dict=mode_values):\n",
    "    col1 = cols[0]\n",
    "    col2 = cols[1]\n",
    "    if pd.isnull(col2):\n",
    "        return mode_dict[col1]\n",
    "    else:\n",
    "        return col2\n",
    "\n",
    "\n",
    "df_train[\"bathroom\"] = df_train[[\"title\",\"bathroom\"]].apply(fill_missing_by_mode,axis = 1)\n",
    "\n",
    "#Fill missing values in parking by mode value of house titl\n",
    "mode_values = group_feature_by_feature_based_on_mode(by_feature = \"title\",feature=\"parking_space\",df=df_train)\n",
    "df_train[\"parking_space\"] = df_train[[\"title\",\"parking_space\"]].apply(fill_missing_by_mode,axis = 1)\n",
    "\n",
    "print(f\"Total missing data in train data is {df_train.isnull().sum().sum()}\")\n",
    "print(f\"Total missing data in test data  is {df_test.isnull().sum().sum()}\")"
   ]
  },
  {
   "cell_type": "markdown",
   "id": "03e0c73f-cbd3-48e2-a685-e00263eada8c",
   "metadata": {},
   "source": [
    "##### Creating new features"
   ]
  },
  {
   "cell_type": "code",
   "execution_count": 8,
   "id": "022177f8-c2d3-4057-8bb7-b045ee5684da",
   "metadata": {},
   "outputs": [],
   "source": [
    "#create new feature to inducate geopolitical zone\n",
    "geo_states = {\"North_central\":[\"Benue\",\"Kogi\", \"Kwara\", \"Nasarawa\", \"Niger\", \"Plateau\"],\n",
    "\"North_East\":[\"Adamawa\", \"Bauchi\", \"Borno\", \"Gombe\", \"Taraba\", \"Yobe\"],\n",
    "\"North_West\":[\"Kaduna\", \"Katsina\", \"Kano\", \"Kebbi\", \"Sokoto\", \"Jigawa\",\"Zamfara\"],\n",
    "\"South_East\":[\"Abia\", \"Anambra\", \"Ebonyi\", \"Enugu\", \"Imo\"],\n",
    "\"South\":[\"Akwa Ibom\", \"Bayelsa\", \"Cross River\", \"Delta\", \"Edo\", \"Rivers\"],\n",
    "\"South_West\":[\"Ekiti\", \"Lagos\", \"Osun\", \"Ondo\", \"Ogun\", \"Oyo\"]}\n",
    "\n",
    "def add_geo_zone(df_train):\n",
    "        df_train[\"Geo_zone\"] = df_train[\"loc\"]\n",
    "        df_train.loc[df_train[\"loc\"].isin(geo_states[\"North_central\"]),\"Geo_zone\"] = \"North_central\"\n",
    "        df_train.loc[df_train[\"loc\"].isin(geo_states[\"North_East\"]),\"Geo_zone\"] = \"North_East\"\n",
    "        df_train.loc[df_train[\"loc\"].isin(geo_states[\"North_West\"]),\"Geo_zone\"] = \"North_West\"\n",
    "        df_train.loc[df_train[\"loc\"].isin(geo_states[\"South_East\"]),\"Geo_zone\"] = \"South_East\"\n",
    "        df_train.loc[df_train[\"loc\"].isin(geo_states[\"South\"]),\"Geo_zone\"] = \"South\"\n",
    "        df_train.loc[df_train[\"loc\"].isin(geo_states[\"South_West\"]),\"Geo_zone\"] = \"South_West\"\n",
    "        return df_train\n",
    "df_train = add_geo_zone(df_train = df_train)"
   ]
  },
  {
   "cell_type": "markdown",
   "id": "6307fcc6-d712-4ef8-8e33-c3254f7f0a11",
   "metadata": {},
   "source": [
    "##### Encoding categorical features"
   ]
  },
  {
   "cell_type": "code",
   "execution_count": 9,
   "id": "f43e8a01-01b1-4732-b607-ee77fb55a76b",
   "metadata": {},
   "outputs": [],
   "source": [
    "#squaring and logging output feature\n",
    "df_train[\"price_log\"] = np.log(df_train[\"price\"] + 1)\n",
    "df_train[\"price_sqrt\"] = np.sqrt(df_train[\"price\"])"
   ]
  },
  {
   "cell_type": "code",
   "execution_count": 10,
   "id": "3944b8ab-85a9-4fa1-9f55-87e871279b59",
   "metadata": {},
   "outputs": [
    {
     "name": "stdout",
     "output_type": "stream",
     "text": [
      "{'Lagos': 1, 'Bayelsa': 2, 'Rivers': 3, 'Akwa Ibom': 4, 'Delta': 5, 'Ogun': 6, 'Cross River': 7, 'Anambra': 8, 'Oyo': 9, 'Edo': 10, 'Enugu': 11, 'Ondo': 12, 'Osun': 13, 'Ekiti': 14, 'Kano': 15, 'Nasarawa': 16, 'Imo': 17, 'Katsina': 18, 'Plateau': 19, 'Benue': 20, 'Adamawa': 21, 'Kwara': 22, 'Niger': 23, 'Kaduna': 24, 'Gombe': 25, 'Taraba': 26, 'Kogi': 27, 'Bauchi': 28, 'Yobe': 29, 'Jigawa': 30, 'Abia': 31, 'Borno': 32, 'Zamfara': 33, 'Sokoto': 34, 'Kebbi': 35, 'Ebonyi': 36}\n"
     ]
    }
   ],
   "source": [
    "#Encode house location based mean houe price ranking\n",
    "#avergae pricing based on location\n",
    "location_ranks = list(df_train.groupby([\"loc\"])[\"price\"].mean().sort_values(ascending=False).index)\n",
    "location_ranks_dict = {}\n",
    "for i in location_ranks:\n",
    "    location_ranks_dict[i] = location_ranks.index(i) + 1\n",
    "print(location_ranks_dict)\n",
    "# Use the map() function to encode the data\n",
    "categories_train = df_train[\"loc\"]\n",
    "categories_test = df_test[\"loc\"]\n",
    "encoded_data_train = categories_train.map(location_ranks_dict)\n",
    "encoded_data_test = categories_test.map(location_ranks_dict)\n",
    "df_train[\"loc\"] = encoded_data_train"
   ]
  },
  {
   "cell_type": "code",
   "execution_count": 43,
   "id": "a0a7e418-dd22-4237-a3a0-b54d360694df",
   "metadata": {},
   "outputs": [
    {
     "name": "stdout",
     "output_type": "stream",
     "text": [
      "{'Mansion': 1, 'Penthouse': 2, 'Detached duplex': 3, 'Unknown': 4, 'Townhouse': 5, 'Terrace duplex': 6, 'Semi-detached duplex': 7, 'Bungalow': 8, 'Flat': 9, 'Apartment': 10, 'Cottage': 11}\n"
     ]
    }
   ],
   "source": [
    "#Encode house location based mean houe price ranking\n",
    "#avergae pricing based on location\n",
    "location_ranks = list(df_train.groupby([\"title\"])[\"price\"].mean().sort_values(ascending=False).index)\n",
    "location_ranks_dict = {}\n",
    "for i in location_ranks:\n",
    "    location_ranks_dict[i] = location_ranks.index(i) + 1\n",
    "\n",
    "print(location_ranks_dict)\n",
    "# Use the map() function to encode the data\n",
    "categories_train = df_train[\"title\"]\n",
    "categories_test = df_test[\"title\"]\n",
    "encoded_data_train = categories_train.map(location_ranks_dict)\n",
    "encoded_data_test = categories_test.map(location_ranks_dict)\n",
    "df_train[\"title\"] = encoded_data_train"
   ]
  },
  {
   "cell_type": "code",
   "execution_count": 44,
   "id": "607c0bf2-7add-4057-8bb6-3ed1fca2f9b7",
   "metadata": {},
   "outputs": [
    {
     "name": "stdout",
     "output_type": "stream",
     "text": [
      "{'South': 1, 'South_West': 2, 'Unknown': 3, 'South_East': 4, 'North_central': 5, 'North_East': 6, 'North_West': 7}\n"
     ]
    }
   ],
   "source": [
    "#Encode house geopolotical zone  based mean houe price ranking\n",
    "#avergae pricing based on title\n",
    "location_ranks = list(df_train.groupby([\"Geo_zone\"])[\"price\"].mean().sort_values(ascending=False).index)\n",
    "location_ranks_dict = {}\n",
    "for i in location_ranks:\n",
    "    location_ranks_dict[i] = location_ranks.index(i) + 1\n",
    "print(location_ranks_dict)\n",
    "# Use the map() function to encode the data\n",
    "categories_train = df_train[\"Geo_zone\"]\n",
    "encoded_data_train = categories_train.map(location_ranks_dict)\n",
    "df_train[\"Geo_zone\"] = encoded_data_train"
   ]
  },
  {
   "cell_type": "code",
   "execution_count": 45,
   "id": "94f3a205-c94a-4f33-856e-ded1ad7100c8",
   "metadata": {},
   "outputs": [
    {
     "data": {
      "text/html": [
       "<div>\n",
       "<style scoped>\n",
       "    .dataframe tbody tr th:only-of-type {\n",
       "        vertical-align: middle;\n",
       "    }\n",
       "\n",
       "    .dataframe tbody tr th {\n",
       "        vertical-align: top;\n",
       "    }\n",
       "\n",
       "    .dataframe thead th {\n",
       "        text-align: right;\n",
       "    }\n",
       "</style>\n",
       "<table border=\"1\" class=\"dataframe\">\n",
       "  <thead>\n",
       "    <tr style=\"text-align: right;\">\n",
       "      <th></th>\n",
       "      <th>ID</th>\n",
       "      <th>loc</th>\n",
       "      <th>title</th>\n",
       "      <th>bedroom</th>\n",
       "      <th>bathroom</th>\n",
       "      <th>parking_space</th>\n",
       "      <th>price</th>\n",
       "      <th>Geo_zone</th>\n",
       "      <th>price_log</th>\n",
       "      <th>price_sqrt</th>\n",
       "    </tr>\n",
       "  </thead>\n",
       "  <tbody>\n",
       "    <tr>\n",
       "      <th>0</th>\n",
       "      <td>3583</td>\n",
       "      <td>19</td>\n",
       "      <td>7</td>\n",
       "      <td>2</td>\n",
       "      <td>2</td>\n",
       "      <td>1</td>\n",
       "      <td>1149999.565</td>\n",
       "      <td>7</td>\n",
       "      <td>13.955273</td>\n",
       "      <td>1072.380327</td>\n",
       "    </tr>\n",
       "    <tr>\n",
       "      <th>1</th>\n",
       "      <td>2748</td>\n",
       "      <td>11</td>\n",
       "      <td>10</td>\n",
       "      <td>1</td>\n",
       "      <td>2</td>\n",
       "      <td>4</td>\n",
       "      <td>1672416.689</td>\n",
       "      <td>2</td>\n",
       "      <td>14.329781</td>\n",
       "      <td>1293.219505</td>\n",
       "    </tr>\n",
       "    <tr>\n",
       "      <th>2</th>\n",
       "      <td>9261</td>\n",
       "      <td>15</td>\n",
       "      <td>4</td>\n",
       "      <td>7</td>\n",
       "      <td>5</td>\n",
       "      <td>2</td>\n",
       "      <td>3364799.814</td>\n",
       "      <td>2</td>\n",
       "      <td>15.028879</td>\n",
       "      <td>1834.339067</td>\n",
       "    </tr>\n",
       "    <tr>\n",
       "      <th>3</th>\n",
       "      <td>2224</td>\n",
       "      <td>8</td>\n",
       "      <td>3</td>\n",
       "      <td>5</td>\n",
       "      <td>2</td>\n",
       "      <td>4</td>\n",
       "      <td>2410306.756</td>\n",
       "      <td>4</td>\n",
       "      <td>14.695265</td>\n",
       "      <td>1552.516266</td>\n",
       "    </tr>\n",
       "    <tr>\n",
       "      <th>4</th>\n",
       "      <td>10300</td>\n",
       "      <td>29</td>\n",
       "      <td>6</td>\n",
       "      <td>1</td>\n",
       "      <td>5</td>\n",
       "      <td>6</td>\n",
       "      <td>2600700.898</td>\n",
       "      <td>5</td>\n",
       "      <td>14.771292</td>\n",
       "      <td>1612.668874</td>\n",
       "    </tr>\n",
       "  </tbody>\n",
       "</table>\n",
       "</div>"
      ],
      "text/plain": [
       "      ID  loc  title  bedroom  bathroom  parking_space        price  Geo_zone  \\\n",
       "0   3583   19      7        2         2              1  1149999.565         7   \n",
       "1   2748   11     10        1         2              4  1672416.689         2   \n",
       "2   9261   15      4        7         5              2  3364799.814         2   \n",
       "3   2224    8      3        5         2              4  2410306.756         4   \n",
       "4  10300   29      6        1         5              6  2600700.898         5   \n",
       "\n",
       "   price_log   price_sqrt  \n",
       "0  13.955273  1072.380327  \n",
       "1  14.329781  1293.219505  \n",
       "2  15.028879  1834.339067  \n",
       "3  14.695265  1552.516266  \n",
       "4  14.771292  1612.668874  "
      ]
     },
     "execution_count": 45,
     "metadata": {},
     "output_type": "execute_result"
    }
   ],
   "source": [
    "#Converting bedroom,bathroom and parking space to discrete variables\n",
    "df_train[[\"bedroom\",\"bathroom\",\"parking_space\"]] = df_train[[\"bedroom\",\"bathroom\",\"parking_space\"]].astype(int)\n",
    "df_test[[\"bedroom\",\"bathroom\",\"parking_space\"]] = df_test[[\"bedroom\",\"bathroom\",\"parking_space\"]].astype(int)\n",
    "df_train.head()"
   ]
  },
  {
   "cell_type": "code",
   "execution_count": 46,
   "id": "31a1b089-243f-4ed1-b537-91cf4cbfda7f",
   "metadata": {},
   "outputs": [],
   "source": [
    "#Adding total number of bedrooms,bathrooms and parking space\n",
    "df_train[\"bed_bath_paking\"] =  df_train[\"bedroom\"] + df_train[\"bathroom\"] + df_train[\"parking_space\"]\n",
    "df_test[\"bed_bath_paking\"] =  df_test[\"bedroom\"] + df_test[\"bathroom\"] + df_test[\"parking_space\"]"
   ]
  },
  {
   "cell_type": "markdown",
   "id": "a897ef58-9b1a-4cd7-8a5e-8cbf12b1a313",
   "metadata": {},
   "source": [
    "#### Cross Validation"
   ]
  },
  {
   "cell_type": "code",
   "execution_count": 49,
   "id": "15bde298-03bf-4a62-9de7-3496db588e78",
   "metadata": {},
   "outputs": [],
   "source": [
    "#dictionary of models to be used\n",
    "models = {\"Linear_Regression\":LinearRegression(),\n",
    "          \"Random_Forest\":RandomForestRegressor(random_state=0),\"XGboost\":xgb.XGBRegressor(random_state=0),\n",
    "          \"Catboost\":CatBoostRegressor(random_state=0,silent=True),\"Gradient_boosting\":GradientBoostingRegressor(random_state=0)}\n",
    "\n",
    "#Calculate the number of bins using the Sturges method\n",
    "bins = int(np.ceil(np.log2(len(df_train)) + 1))\n",
    "#Bin the data using the Sturges method\n",
    "binned_data = pd.cut(df_train[\"price\"], bins=bins,labels=False)\n",
    "df_train[\"Bin_value\"] = binned_data\n",
    "\n",
    "#Divid data into dependent and independent variables\n",
    "X = df_train.drop([\"Bin_value\",\"price\",\"price_log\",\"ID\",\"price_sqrt\"],axis=1)\n",
    "y = df_train[\"Bin_value\"]\n",
    "target = \"price_log\"\n",
    "#skf = StratifiedShuffleSplit(n_splits=10, test_size=0.1, random_state=0)\n",
    "skf = StratifiedKFold(n_splits=10, shuffle=True, random_state=0)\n",
    "\n",
    "#Custom cross validation function\n",
    "def run(models):\n",
    "    #create empty dic for model and scores\n",
    "    scores = {}\n",
    "    for model in models.keys():\n",
    "        scores[model] = [] #create empty lsit to store model scores at on each fold\n",
    "    for name,model in models.items():\n",
    "        print(f\"Running -- {name}\")\n",
    "        print(\"-------------------------\")\n",
    "        for i,(train_index, test_index) in enumerate(skf.split(X, y)):\n",
    "            xtrain, xvalid = X.iloc[train_index], X.iloc[test_index]\n",
    "            ytrain, yvalid = df_train[target].iloc[train_index], df_train[target].iloc[test_index]\n",
    "            model.fit(xtrain, ytrain)\n",
    "            yvalid = np.exp(yvalid) - 1\n",
    "            #make predictions on validation data\n",
    "            preds_valid =  np.exp(model.predict(xvalid)) -1\n",
    "            rmse = mean_squared_error(yvalid, preds_valid,squared=False)\n",
    "            print(f\"Fold {i} score : \", rmse)\n",
    "            scores[name].append(rmse)\n",
    "        print(f\"{model} -- mean rmse {np.mean(scores[name])}\")\n",
    "        print()\n",
    "\n",
    "    #take the mean of scores for every model\n",
    "    for name, model in models.items():\n",
    "        scores[name] = np.mean(np.array(scores[name]))\n",
    "    model_names = scores.keys()\n",
    "    model_scores = scores.values()\n",
    "    results = {\"Model\":model_names,\"Rmse_score\":model_scores}\n",
    "    results = pd.DataFrame.from_dict(results) #create dictionary of model and corresponding mean rmse score\n",
    "    return results"
   ]
  },
  {
   "cell_type": "code",
   "execution_count": 50,
   "id": "eb083a66-7bc1-432c-a978-9a53e1e39129",
   "metadata": {},
   "outputs": [
    {
     "name": "stdout",
     "output_type": "stream",
     "text": [
      "Running -- Linear_Regression\n",
      "-------------------------\n",
      "Fold 0 score :  672365.0482334284\n",
      "Fold 1 score :  659569.4882421744\n",
      "Fold 2 score :  663019.814060372\n",
      "Fold 3 score :  689962.0846617826\n",
      "Fold 4 score :  683470.9811140407\n",
      "Fold 5 score :  677756.1085147084\n",
      "Fold 6 score :  688451.3732423781\n",
      "Fold 7 score :  669106.8144500032\n",
      "Fold 8 score :  736291.0143240849\n",
      "Fold 9 score :  735560.6236546115\n",
      "LinearRegression() -- mean rmse 687555.3350497584\n",
      "\n",
      "Running -- Random_Forest\n",
      "-------------------------\n",
      "Fold 0 score :  638413.8994211911\n",
      "Fold 1 score :  523460.57968888927\n",
      "Fold 2 score :  598448.5131817762\n",
      "Fold 3 score :  603657.4798439238\n",
      "Fold 4 score :  628132.3878249043\n",
      "Fold 5 score :  567013.2614946527\n",
      "Fold 6 score :  614438.3000945566\n",
      "Fold 7 score :  590526.5155155818\n",
      "Fold 8 score :  657957.4870324606\n",
      "Fold 9 score :  555875.6422062557\n",
      "RandomForestRegressor(random_state=0) -- mean rmse 597792.4066304192\n",
      "\n",
      "Running -- XGboost\n",
      "-------------------------\n",
      "Fold 0 score :  595913.7834545614\n",
      "Fold 1 score :  486263.78537617665\n",
      "Fold 2 score :  571902.9395477512\n",
      "Fold 3 score :  572793.2123719186\n",
      "Fold 4 score :  581024.264415216\n",
      "Fold 5 score :  561435.3334310524\n",
      "Fold 6 score :  586269.9052177643\n",
      "Fold 7 score :  577773.5963481776\n",
      "Fold 8 score :  595306.8551417901\n",
      "Fold 9 score :  528892.6710690694\n",
      "XGBRegressor(base_score=None, booster=None, callbacks=None,\n",
      "             colsample_bylevel=None, colsample_bynode=None,\n",
      "             colsample_bytree=None, early_stopping_rounds=None,\n",
      "             enable_categorical=False, eval_metric=None, feature_types=None,\n",
      "             gamma=None, gpu_id=None, grow_policy=None, importance_type=None,\n",
      "             interaction_constraints=None, learning_rate=None, max_bin=None,\n",
      "             max_cat_threshold=None, max_cat_to_onehot=None,\n",
      "             max_delta_step=None, max_depth=None, max_leaves=None,\n",
      "             min_child_weight=None, missing=nan, monotone_constraints=None,\n",
      "             n_estimators=100, n_jobs=None, num_parallel_tree=None,\n",
      "             predictor=None, random_state=0, ...) -- mean rmse 565757.6346373479\n",
      "\n",
      "Running -- Catboost\n",
      "-------------------------\n",
      "Fold 0 score :  581428.0917748234\n",
      "Fold 1 score :  482028.0194887658\n",
      "Fold 2 score :  563483.5672017476\n",
      "Fold 3 score :  550538.8847368027\n",
      "Fold 4 score :  566240.4122208203\n",
      "Fold 5 score :  543545.6304925561\n",
      "Fold 6 score :  578283.9616468361\n",
      "Fold 7 score :  559021.1305451711\n",
      "Fold 8 score :  596958.7987196182\n",
      "Fold 9 score :  534541.9820174052\n",
      "<catboost.core.CatBoostRegressor object at 0x000002A71DD044F0> -- mean rmse 555607.0478844547\n",
      "\n",
      "Running -- Gradient_boosting\n",
      "-------------------------\n",
      "Fold 0 score :  568102.0458240584\n",
      "Fold 1 score :  495157.40113839007\n",
      "Fold 2 score :  551172.5224883802\n",
      "Fold 3 score :  557527.781643128\n",
      "Fold 4 score :  561302.7242180089\n",
      "Fold 5 score :  545167.2712150593\n",
      "Fold 6 score :  567020.7367283601\n",
      "Fold 7 score :  550775.5489949263\n",
      "Fold 8 score :  584938.5932937949\n",
      "Fold 9 score :  548729.4960458819\n",
      "GradientBoostingRegressor(random_state=0) -- mean rmse 552989.4121589989\n",
      "\n"
     ]
    }
   ],
   "source": [
    "results = run(models = models)"
   ]
  },
  {
   "cell_type": "code",
   "execution_count": 52,
   "id": "b5996ad0-5527-42eb-a812-8b0b12bba92d",
   "metadata": {},
   "outputs": [
    {
     "data": {
      "text/html": [
       "<div>\n",
       "<style scoped>\n",
       "    .dataframe tbody tr th:only-of-type {\n",
       "        vertical-align: middle;\n",
       "    }\n",
       "\n",
       "    .dataframe tbody tr th {\n",
       "        vertical-align: top;\n",
       "    }\n",
       "\n",
       "    .dataframe thead th {\n",
       "        text-align: right;\n",
       "    }\n",
       "</style>\n",
       "<table border=\"1\" class=\"dataframe\">\n",
       "  <thead>\n",
       "    <tr style=\"text-align: right;\">\n",
       "      <th></th>\n",
       "      <th>Model</th>\n",
       "      <th>Rmse_score</th>\n",
       "    </tr>\n",
       "  </thead>\n",
       "  <tbody>\n",
       "    <tr>\n",
       "      <th>4</th>\n",
       "      <td>Gradient_boosting</td>\n",
       "      <td>552989.412159</td>\n",
       "    </tr>\n",
       "    <tr>\n",
       "      <th>3</th>\n",
       "      <td>Catboost</td>\n",
       "      <td>555607.047884</td>\n",
       "    </tr>\n",
       "    <tr>\n",
       "      <th>2</th>\n",
       "      <td>XGboost</td>\n",
       "      <td>565757.634637</td>\n",
       "    </tr>\n",
       "    <tr>\n",
       "      <th>1</th>\n",
       "      <td>Random_Forest</td>\n",
       "      <td>597792.406630</td>\n",
       "    </tr>\n",
       "    <tr>\n",
       "      <th>0</th>\n",
       "      <td>Linear_Regression</td>\n",
       "      <td>687555.335050</td>\n",
       "    </tr>\n",
       "  </tbody>\n",
       "</table>\n",
       "</div>"
      ],
      "text/plain": [
       "               Model     Rmse_score\n",
       "4  Gradient_boosting  552989.412159\n",
       "3           Catboost  555607.047884\n",
       "2            XGboost  565757.634637\n",
       "1      Random_Forest  597792.406630\n",
       "0  Linear_Regression  687555.335050"
      ]
     },
     "execution_count": 52,
     "metadata": {},
     "output_type": "execute_result"
    }
   ],
   "source": [
    "sorted_df = results.sort_values(by=\"Rmse_score\",ascending=True)\n",
    "sorted_df.head()"
   ]
  },
  {
   "cell_type": "markdown",
   "id": "c64bc4c6-eb45-4974-95ef-be44e265ba57",
   "metadata": {},
   "source": [
    "Comment : Gradient performs best compared t other models"
   ]
  },
  {
   "cell_type": "code",
   "execution_count": 53,
   "id": "d4415f3e-fc21-4d35-925d-7353ee6c848c",
   "metadata": {},
   "outputs": [],
   "source": [
    "#save results\n",
    "path = r\"C:\\Users\\User\\Desktop\\Blessing_AI\\Free_AI_Classes_2023\\Results\"\n",
    "os.chdir(path)\n",
    "sorted_df.to_csv(\"model_results.csv\",index=False)"
   ]
  },
  {
   "cell_type": "markdown",
   "id": "5b25b47a-2e40-4fe3-96a3-c93498fa39dd",
   "metadata": {},
   "source": [
    "#### Model Training\n",
    "-Training best model - Gradient boosting"
   ]
  },
  {
   "cell_type": "code",
   "execution_count": 19,
   "id": "04448986-51f8-4183-84d9-b83c96c7d375",
   "metadata": {},
   "outputs": [
    {
     "data": {
      "text/html": [
       "<style>#sk-container-id-2 {color: black;}#sk-container-id-2 pre{padding: 0;}#sk-container-id-2 div.sk-toggleable {background-color: white;}#sk-container-id-2 label.sk-toggleable__label {cursor: pointer;display: block;width: 100%;margin-bottom: 0;padding: 0.3em;box-sizing: border-box;text-align: center;}#sk-container-id-2 label.sk-toggleable__label-arrow:before {content: \"▸\";float: left;margin-right: 0.25em;color: #696969;}#sk-container-id-2 label.sk-toggleable__label-arrow:hover:before {color: black;}#sk-container-id-2 div.sk-estimator:hover label.sk-toggleable__label-arrow:before {color: black;}#sk-container-id-2 div.sk-toggleable__content {max-height: 0;max-width: 0;overflow: hidden;text-align: left;background-color: #f0f8ff;}#sk-container-id-2 div.sk-toggleable__content pre {margin: 0.2em;color: black;border-radius: 0.25em;background-color: #f0f8ff;}#sk-container-id-2 input.sk-toggleable__control:checked~div.sk-toggleable__content {max-height: 200px;max-width: 100%;overflow: auto;}#sk-container-id-2 input.sk-toggleable__control:checked~label.sk-toggleable__label-arrow:before {content: \"▾\";}#sk-container-id-2 div.sk-estimator input.sk-toggleable__control:checked~label.sk-toggleable__label {background-color: #d4ebff;}#sk-container-id-2 div.sk-label input.sk-toggleable__control:checked~label.sk-toggleable__label {background-color: #d4ebff;}#sk-container-id-2 input.sk-hidden--visually {border: 0;clip: rect(1px 1px 1px 1px);clip: rect(1px, 1px, 1px, 1px);height: 1px;margin: -1px;overflow: hidden;padding: 0;position: absolute;width: 1px;}#sk-container-id-2 div.sk-estimator {font-family: monospace;background-color: #f0f8ff;border: 1px dotted black;border-radius: 0.25em;box-sizing: border-box;margin-bottom: 0.5em;}#sk-container-id-2 div.sk-estimator:hover {background-color: #d4ebff;}#sk-container-id-2 div.sk-parallel-item::after {content: \"\";width: 100%;border-bottom: 1px solid gray;flex-grow: 1;}#sk-container-id-2 div.sk-label:hover label.sk-toggleable__label {background-color: #d4ebff;}#sk-container-id-2 div.sk-serial::before {content: \"\";position: absolute;border-left: 1px solid gray;box-sizing: border-box;top: 0;bottom: 0;left: 50%;z-index: 0;}#sk-container-id-2 div.sk-serial {display: flex;flex-direction: column;align-items: center;background-color: white;padding-right: 0.2em;padding-left: 0.2em;position: relative;}#sk-container-id-2 div.sk-item {position: relative;z-index: 1;}#sk-container-id-2 div.sk-parallel {display: flex;align-items: stretch;justify-content: center;background-color: white;position: relative;}#sk-container-id-2 div.sk-item::before, #sk-container-id-2 div.sk-parallel-item::before {content: \"\";position: absolute;border-left: 1px solid gray;box-sizing: border-box;top: 0;bottom: 0;left: 50%;z-index: -1;}#sk-container-id-2 div.sk-parallel-item {display: flex;flex-direction: column;z-index: 1;position: relative;background-color: white;}#sk-container-id-2 div.sk-parallel-item:first-child::after {align-self: flex-end;width: 50%;}#sk-container-id-2 div.sk-parallel-item:last-child::after {align-self: flex-start;width: 50%;}#sk-container-id-2 div.sk-parallel-item:only-child::after {width: 0;}#sk-container-id-2 div.sk-dashed-wrapped {border: 1px dashed gray;margin: 0 0.4em 0.5em 0.4em;box-sizing: border-box;padding-bottom: 0.4em;background-color: white;}#sk-container-id-2 div.sk-label label {font-family: monospace;font-weight: bold;display: inline-block;line-height: 1.2em;}#sk-container-id-2 div.sk-label-container {text-align: center;}#sk-container-id-2 div.sk-container {/* jupyter's `normalize.less` sets `[hidden] { display: none; }` but bootstrap.min.css set `[hidden] { display: none !important; }` so we also need the `!important` here to be able to override the default hidden behavior on the sphinx rendered scikit-learn.org. See: https://github.com/scikit-learn/scikit-learn/issues/21755 */display: inline-block !important;position: relative;}#sk-container-id-2 div.sk-text-repr-fallback {display: none;}</style><div id=\"sk-container-id-2\" class=\"sk-top-container\"><div class=\"sk-text-repr-fallback\"><pre>GradientBoostingRegressor(random_state=0)</pre><b>In a Jupyter environment, please rerun this cell to show the HTML representation or trust the notebook. <br />On GitHub, the HTML representation is unable to render, please try loading this page with nbviewer.org.</b></div><div class=\"sk-container\" hidden><div class=\"sk-item\"><div class=\"sk-estimator sk-toggleable\"><input class=\"sk-toggleable__control sk-hidden--visually\" id=\"sk-estimator-id-2\" type=\"checkbox\" checked><label for=\"sk-estimator-id-2\" class=\"sk-toggleable__label sk-toggleable__label-arrow\">GradientBoostingRegressor</label><div class=\"sk-toggleable__content\"><pre>GradientBoostingRegressor(random_state=0)</pre></div></div></div></div></div>"
      ],
      "text/plain": [
       "GradientBoostingRegressor(random_state=0)"
      ]
     },
     "execution_count": 19,
     "metadata": {},
     "output_type": "execute_result"
    }
   ],
   "source": [
    "#split data into train and test\n",
    "X = df_train.drop([\"price\",\"price_log\",\"ID\",\"price_sqrt\"],axis=1)\n",
    "y = df_train[\"price_log\"]\n",
    "X_train, X_test, y_train, y_test = train_test_split(X, y, test_size=0.1, random_state=42)\n",
    "\n",
    "#train model\n",
    "gb_model = GradientBoostingRegressor(random_state=0)\n",
    "gb_model.fit(X_train,y_train)"
   ]
  },
  {
   "cell_type": "markdown",
   "id": "5bdc76d5-2dde-4e13-88cc-b2bca4b74de9",
   "metadata": {},
   "source": [
    "### Model Evaluation"
   ]
  },
  {
   "cell_type": "code",
   "execution_count": 20,
   "id": "359f21cc-0d97-4606-859f-156aa1e7ce74",
   "metadata": {},
   "outputs": [
    {
     "name": "stdout",
     "output_type": "stream",
     "text": [
      "[ 640658.77456769  889431.16218719  382662.38967687 ... 1012349.44880857\n",
      "  479942.04129494  625789.3509273 ]\n"
     ]
    }
   ],
   "source": [
    "y_preds = np.exp(gb_model.predict(X_test) - 1)\n",
    "print(y_preds)"
   ]
  },
  {
   "cell_type": "code",
   "execution_count": 21,
   "id": "7f61fffa-69c7-46d7-a57d-b42b6f89799b",
   "metadata": {},
   "outputs": [
    {
     "name": "stdout",
     "output_type": "stream",
     "text": [
      "Root Mean Squared Error (RMSE): 846106.1822115304\n",
      "Mean Squared Error (MSE): 715895671576.5714\n",
      "Mean Absolute Error (MAE): 774657.2650989096\n"
     ]
    }
   ],
   "source": [
    "# Calculate Root Mean Squared Error (RMSE)\n",
    "rmse = np.sqrt(mean_squared_error(y_test, y_preds))\n",
    "\n",
    "# Calculate Mean Squared Error (MSE)\n",
    "mse = mean_squared_error(y_test, y_preds)\n",
    "\n",
    "# Calculate Mean Absolute Error (MAE)\n",
    "mae = mean_absolute_error(y_test, y_preds)\n",
    "\n",
    "print(f\"Root Mean Squared Error (RMSE): {rmse}\")\n",
    "print(f\"Mean Squared Error (MSE): {mse}\")\n",
    "print(f\"Mean Absolute Error (MAE): {mae}\")"
   ]
  },
  {
   "cell_type": "markdown",
   "id": "b39a854d-a272-40e8-972b-5f7f8b38997d",
   "metadata": {},
   "source": [
    "### Model Intepretations"
   ]
  },
  {
   "cell_type": "markdown",
   "id": "10d58082-bedb-4807-83a9-928fa8b81e1f",
   "metadata": {},
   "source": [
    "Feature importance method"
   ]
  },
  {
   "cell_type": "code",
   "execution_count": 22,
   "id": "c3648e1d-3185-4dd8-86bd-d4755ddd745f",
   "metadata": {},
   "outputs": [],
   "source": [
    "#get feature importance from model\n",
    "feature_importances = gb_model.feature_importances_"
   ]
  },
  {
   "cell_type": "code",
   "execution_count": 23,
   "id": "9092002c-7af2-41a8-aec7-c13831ab5956",
   "metadata": {},
   "outputs": [
    {
     "data": {
      "image/png": "[encoded data removed]",
      "text/plain": [
       "<Figure size 1000x600 with 1 Axes>"
      ]
     },
     "metadata": {},
     "output_type": "display_data"
    }
   ],
   "source": [
    "# Create a DataFrame to store the feature names and importances\n",
    "importance_df = pd.DataFrame({'Feature': X.columns, 'Importance': feature_importances})\n",
    "importance_df = importance_df.sort_values(by='Importance', ascending=False)\n",
    "\n",
    "# Plot the feature importances\n",
    "plt.figure(figsize=(10, 6))\n",
    "plt.barh(importance_df['Feature'], importance_df['Importance'])\n",
    "plt.xlabel('Importance')\n",
    "plt.ylabel('Feature')\n",
    "plt.title('Feature Importances')\n",
    "plt.show()"
   ]
  },
  {
   "cell_type": "markdown",
   "id": "7eca8837-6f38-4d95-be4f-b3e3c26048e7",
   "metadata": {},
   "source": [
    "Comment : The feature importance from the model shows that title , number of bedrooms,location ,sum of bedroom plus bathroom plus parking are the most significant for local interpretation of the model"
   ]
  },
  {
   "cell_type": "code",
   "execution_count": null,
   "id": "bcde0b3a-8f8c-4d16-898e-658c83fcd61c",
   "metadata": {},
   "outputs": [],
   "source": [
    "# Create an explainer object for your model\n",
    "explainer = shap.Explainer(model)\n",
    "\n",
    "# Calculate SHAP values for a subset of your data (e.g., X_test)\n",
    "shap_values = explainer.shap_values(X_test)"
   ]
  },
  {
   "cell_type": "code",
   "execution_count": null,
   "id": "81a86ea5-b310-4b64-8539-fe2c12821e1c",
   "metadata": {},
   "outputs": [],
   "source": [
    "# Plot a summary plot to see feature importances for a specific prediction (e.g., the first prediction)\n",
    "shap.summary_plot(shap_values[1], X_test.iloc[0])\n",
    "\n",
    "# Alternatively, you can use force plot to visualize individual predictions\n",
    "shap.force_plot(explainer.expected_value[1], shap_values[1][0], X_test.iloc[0])"
   ]
  }
 ],
 "metadata": {
  "kernelspec": {
   "display_name": "Python 3 (ipykernel)",
   "language": "python",
   "name": "python3"
  },
  "language_info": {
   "codemirror_mode": {
    "name": "ipython",
    "version": 3
   },
   "file_extension": ".py",
   "mimetype": "text/x-python",
   "name": "python",
   "nbconvert_exporter": "python",
   "pygments_lexer": "ipython3",
   "version": "3.10.0"
  }
 },
 "nbformat": 4,
 "nbformat_minor": 5
}
