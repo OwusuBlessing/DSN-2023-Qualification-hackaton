{
 "cells": [
  {
   "cell_type": "code",
   "execution_count": null,
   "id": "13939332-7c39-4e2c-98cc-b022a93614e1",
   "metadata": {},
   "outputs": [],
   "source": [
    "def tune_model(trial):\n",
    "    scores = []\n",
    "    for i,(train_index, test_index) in enumerate(skf.split(X, y)):\n",
    "        xtrain, xvalid = X.iloc[train_index], X.iloc[test_index]\n",
    "        ytrain, yvalid = df_train[target].iloc[train_index], df_train[target].iloc[test_index]\n",
    "        xtest = df_test[cols].copy()\n",
    "\n",
    "        #Fit model\n",
    "         \n",
    "        param = {\n",
    "        'max_depth': trial.suggest_int('max_depth', 1,5),\n",
    "        'learning_rate': trial.suggest_float('learning_rate', 0.07,0.09),\n",
    "        'n_estimators': trial.suggest_int('n_estimators', 180, 200),\n",
    "        'min_child_weight': trial.suggest_int('min_child_weight', 1, 5),\n",
    "        'gamma': trial.suggest_float('gamma', 0.01, 1.0),\n",
    "        'subsample': trial.suggest_float('subsample', 0.4, 1.0),\n",
    "        'colsample_bytree': trial.suggest_float('colsample_bytree', 0.6, 1.0),\n",
    "        'reg_alpha': trial.suggest_float('reg_alpha', 0.01, 1.0),\n",
    "        'reg_lambda': trial.suggest_float('reg_lambda', 0.01, 1.0)\n",
    "        }\n",
    "        model = xgb.XGBRegressor(**param,random_state=0)\n",
    "        model.fit(xtrain, ytrain)\n",
    "        yvalid = np.exp(yvalid) - 1\n",
    "        #make predictions on validation data\n",
    "        preds_valid =  np.exp(model.predict(xvalid)) - 1\n",
    "\n",
    "       \n",
    "        rmse = mean_squared_error(yvalid, preds_valid,squared=False)\n",
    "        print(f\"Fold {i} score : \", rmse)\n",
    "        scores.append(rmse)\n",
    "    rmse = np.array(scores).mean()\n",
    "    print(f\"Mean rmse :{np.array(scores).mean()}\")\n",
    "    return rmse\n"
   ]
  },
  {
   "cell_type": "code",
   "execution_count": null,
   "id": "f05c48b6-df42-4250-ab1a-24cfd31b1cea",
   "metadata": {},
   "outputs": [],
   "source": [
    "# Create the study\n",
    "study = optuna.create_study(direction='minimize', study_name='regression')\n",
    "study.optimize(tune_model, n_trials=100)"
   ]
  }
 ],
 "metadata": {
  "kernelspec": {
   "display_name": "Python 3 (ipykernel)",
   "language": "python",
   "name": "python3"
  },
  "language_info": {
   "codemirror_mode": {
    "name": "ipython",
    "version": 3
   },
   "file_extension": ".py",
   "mimetype": "text/x-python",
   "name": "python",
   "nbconvert_exporter": "python",
   "pygments_lexer": "ipython3",
   "version": "3.10.0"
  }
 },
 "nbformat": 4,
 "nbformat_minor": 5
}
